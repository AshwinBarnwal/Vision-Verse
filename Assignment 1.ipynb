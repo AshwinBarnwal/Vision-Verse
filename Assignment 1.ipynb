{
  "nbformat": 4,
  "nbformat_minor": 0,
  "metadata": {
    "colab": {
      "provenance": []
    },
    "kernelspec": {
      "name": "python3",
      "display_name": "Python 3"
    },
    "language_info": {
      "name": "python"
    }
  },
  "cells": [
    {
      "cell_type": "markdown",
      "source": [
        "Save a copy in Drive of the given notebook and make changes.\n",
        "\n",
        "Output for each of the questions is provided below each question. You need to produce the same output."
      ],
      "metadata": {
        "id": "DRMwEtL9TMHl"
      }
    },
    {
      "cell_type": "code",
      "source": [
        "import numpy as np"
      ],
      "metadata": {
        "id": "VeuI0DyQTq50"
      },
      "execution_count": null,
      "outputs": []
    },
    {
      "cell_type": "markdown",
      "source": [
        " 1. Create a 4x6 numpy array filled with all zeros."
      ],
      "metadata": {
        "id": "vzpMMu5tlLQl"
      }
    },
    {
      "cell_type": "code",
      "source": [
        "import numpy as np\n",
        "a=np.zeros((4,6), dtype=int)\n",
        "print(a)"
      ],
      "metadata": {
        "colab": {
          "base_uri": "https://localhost:8080/"
        },
        "id": "n6yPmDGNl5yz",
        "outputId": "8b1fa838-4abf-4eeb-f148-9788ce7a5562"
      },
      "execution_count": null,
      "outputs": [
        {
          "output_type": "stream",
          "name": "stdout",
          "text": [
            "[[0 0 0 0 0 0]\n",
            " [0 0 0 0 0 0]\n",
            " [0 0 0 0 0 0]\n",
            " [0 0 0 0 0 0]]\n"
          ]
        }
      ]
    },
    {
      "cell_type": "markdown",
      "source": [
        "2. Create a 5x5 numpy array filled with all ones."
      ],
      "metadata": {
        "id": "h2FIk_vNmvRa"
      }
    },
    {
      "cell_type": "code",
      "source": [
        "import numpy as np\n",
        "a=np.ones((5,5), dtype = int)\n",
        "print(a)"
      ],
      "metadata": {
        "colab": {
          "base_uri": "https://localhost:8080/"
        },
        "id": "brCfmuw0m-yW",
        "outputId": "769998f6-caae-49ac-cd7a-587cc9973e88"
      },
      "execution_count": null,
      "outputs": [
        {
          "output_type": "stream",
          "name": "stdout",
          "text": [
            "[[1 1 1 1 1]\n",
            " [1 1 1 1 1]\n",
            " [1 1 1 1 1]\n",
            " [1 1 1 1 1]\n",
            " [1 1 1 1 1]]\n"
          ]
        }
      ]
    },
    {
      "cell_type": "markdown",
      "source": [
        "3.Create an array of (4,5) filled with 4."
      ],
      "metadata": {
        "id": "QI3JcIBRQgdV"
      }
    },
    {
      "cell_type": "code",
      "source": [
        "import numpy as np\n",
        "a=np.full((4, 5), 4)\n",
        "print(a)"
      ],
      "metadata": {
        "colab": {
          "base_uri": "https://localhost:8080/"
        },
        "id": "yNZmcJQYQnTq",
        "outputId": "a81869b8-f2b0-41b9-ef74-ca1fa2b9d4fe"
      },
      "execution_count": null,
      "outputs": [
        {
          "output_type": "stream",
          "name": "stdout",
          "text": [
            "[[4 4 4 4 4]\n",
            " [4 4 4 4 4]\n",
            " [4 4 4 4 4]\n",
            " [4 4 4 4 4]]\n"
          ]
        }
      ]
    },
    {
      "cell_type": "markdown",
      "source": [
        "For questions 4-13, consider the matrix\n",
        "\n",
        "a=[[1,2,3],[1,4,5],[8,4,2]]\n",
        "\n",
        "\n",
        "4. Write a code to get print the shape of the given matrix.\n",
        "\n",
        "\n"
      ],
      "metadata": {
        "id": "9EPUHqRWxUGG"
      }
    },
    {
      "cell_type": "code",
      "source": [
        "import numpy as np\n",
        "a=np.array([[1,2,3],[1,4,5],[8,4,2]])\n",
        "print(a.shape)"
      ],
      "metadata": {
        "colab": {
          "base_uri": "https://localhost:8080/"
        },
        "id": "wvDHpmw8xUf0",
        "outputId": "25e9bef5-7cf3-482c-c2f9-fec56614c72a"
      },
      "execution_count": null,
      "outputs": [
        {
          "output_type": "stream",
          "name": "stdout",
          "text": [
            "(3, 3)\n"
          ]
        }
      ]
    },
    {
      "cell_type": "markdown",
      "source": [
        "5.Write the code to print number of elements in a."
      ],
      "metadata": {
        "id": "8RZy077YyOCP"
      }
    },
    {
      "cell_type": "code",
      "source": [
        "import numpy as np\n",
        "a=np.array([[1,2,3],[1,4,5],[8,4,2]])\n",
        "n=0\n",
        "for i in np.nditer(a):\n",
        "  n+=1\n",
        "print(n)"
      ],
      "metadata": {
        "colab": {
          "base_uri": "https://localhost:8080/"
        },
        "id": "52TT7eTmyOec",
        "outputId": "0e556d45-c7e7-44eb-bb55-e95278174e88"
      },
      "execution_count": null,
      "outputs": [
        {
          "output_type": "stream",
          "name": "stdout",
          "text": [
            "9\n"
          ]
        }
      ]
    },
    {
      "cell_type": "markdown",
      "source": [
        "6. Print the 2nd row,1st column and element at (1,2) of a."
      ],
      "metadata": {
        "id": "luN65JwsywXF"
      }
    },
    {
      "cell_type": "code",
      "source": [
        "import numpy as np\n",
        "a=np.array([[1,2,3],[1,4,5],[8,4,2]])\n",
        "print(a[2,::])\n",
        "print(a[::,1])\n",
        "print(a[1,2])"
      ],
      "metadata": {
        "colab": {
          "base_uri": "https://localhost:8080/"
        },
        "id": "3vaGSKkvywqE",
        "outputId": "f94c12ee-7c2c-49a8-e62b-ff45f2d51cba"
      },
      "execution_count": null,
      "outputs": [
        {
          "output_type": "stream",
          "name": "stdout",
          "text": [
            "[8 4 2]\n",
            "[2 4 4]\n",
            "5\n"
          ]
        }
      ]
    },
    {
      "cell_type": "markdown",
      "source": [
        "7. Change the element at (2,1) to 5."
      ],
      "metadata": {
        "id": "Tl8iW0SB0SAz"
      }
    },
    {
      "cell_type": "code",
      "source": [
        "import numpy as np\n",
        "a=np.array([[1,2,3],[1,4,5],[8,4,2]])\n",
        "a[2,1]=5\n",
        "print(a)"
      ],
      "metadata": {
        "colab": {
          "base_uri": "https://localhost:8080/"
        },
        "id": "X-J4EVFy0SX9",
        "outputId": "fda85363-977a-4de6-c98d-f0d973ad12d2"
      },
      "execution_count": null,
      "outputs": [
        {
          "output_type": "stream",
          "name": "stdout",
          "text": [
            "[[1 2 3]\n",
            " [1 4 5]\n",
            " [8 5 2]]\n"
          ]
        }
      ]
    },
    {
      "cell_type": "markdown",
      "source": [
        "8. Print the first and the last element of the first row using stepsize approach."
      ],
      "metadata": {
        "id": "_ZEJ3V01OCPv"
      }
    },
    {
      "cell_type": "code",
      "source": [
        "import numpy as np\n",
        "a=np.array([[1,2,3],[1,4,5],[8,4,2]])\n",
        "print(a[0,::a.shape[1]-1])"
      ],
      "metadata": {
        "colab": {
          "base_uri": "https://localhost:8080/"
        },
        "id": "Ls6bN0l8OCfI",
        "outputId": "0003f70f-eff1-4f01-81b6-4281205aea90"
      },
      "execution_count": null,
      "outputs": [
        {
          "output_type": "stream",
          "name": "stdout",
          "text": [
            "[1 3]\n"
          ]
        }
      ]
    },
    {
      "cell_type": "markdown",
      "source": [
        "9. Print the maximum and minimum values of a."
      ],
      "metadata": {
        "id": "q5uREqwgPMPz"
      }
    },
    {
      "cell_type": "code",
      "source": [
        "import numpy as np\n",
        "a=np.array([[1,2,3],[1,4,5],[8,4,2]])\n",
        "max=0\n",
        "min=a[0,0]\n",
        "for i in np.nditer(a):\n",
        "  if i<min:\n",
        "    min=i\n",
        "  if i>max:\n",
        "    max=i\n",
        "print(max)\n",
        "print(min)"
      ],
      "metadata": {
        "colab": {
          "base_uri": "https://localhost:8080/"
        },
        "id": "boAOEPupPrld",
        "outputId": "e55f2147-9c68-4d20-c9db-e174eb727bcc"
      },
      "execution_count": null,
      "outputs": [
        {
          "output_type": "stream",
          "name": "stdout",
          "text": [
            "8\n",
            "1\n"
          ]
        }
      ]
    },
    {
      "cell_type": "markdown",
      "source": [
        "10. Print row-wise maximum values and their indicies of a."
      ],
      "metadata": {
        "id": "9QElTp8gP8QW"
      }
    },
    {
      "cell_type": "code",
      "source": [
        "import numpy as np\n",
        "a=np.array([[1,2,3],[1,4,5],[8,4,2]])\n",
        "l=[]\n",
        "li=[]\n",
        "for i in a:\n",
        "  n=0\n",
        "  max=0\n",
        "  for j in i:\n",
        "    if j>max:\n",
        "      max=j\n",
        "      index=n\n",
        "      n+=1\n",
        "  l.append(max)\n",
        "  li.append(index)\n",
        "print(l)\n",
        "print(li)"
      ],
      "metadata": {
        "colab": {
          "base_uri": "https://localhost:8080/"
        },
        "id": "O5L3zh78QEf_",
        "outputId": "5ddbd337-458c-4fa1-8c92-d8cf3772b6db"
      },
      "execution_count": null,
      "outputs": [
        {
          "output_type": "stream",
          "name": "stdout",
          "text": [
            "[3, 5, 8]\n",
            "[2, 2, 0]\n"
          ]
        }
      ]
    },
    {
      "cell_type": "markdown",
      "source": [
        "11. Divide all the elements of a by 4."
      ],
      "metadata": {
        "id": "0IE744FoQSWG"
      }
    },
    {
      "cell_type": "code",
      "source": [
        "import numpy as np\n",
        "a=np.array([[1,2,3],[1,4,5],[8,4,2]])\n",
        "a=a.astype(\"f\")\n",
        "for i in range(a.shape[0]):\n",
        "  for j in range(a.shape[1]):\n",
        "    a[i,j]/=4\n",
        "print(a)"
      ],
      "metadata": {
        "colab": {
          "base_uri": "https://localhost:8080/"
        },
        "id": "oPCET_aGRUZs",
        "outputId": "f9bfb127-095c-4b27-a978-92593c9dc407"
      },
      "execution_count": null,
      "outputs": [
        {
          "output_type": "stream",
          "name": "stdout",
          "text": [
            "[[0.25 0.5  0.75]\n",
            " [0.25 1.   1.25]\n",
            " [2.   1.   0.5 ]]\n"
          ]
        }
      ]
    },
    {
      "cell_type": "markdown",
      "source": [
        "12. Sort a along the second axis."
      ],
      "metadata": {
        "id": "XJC4bsKqZGH5"
      }
    },
    {
      "cell_type": "code",
      "source": [
        "import numpy as np\n",
        "a=np.array([[1,2,3],[1,4,5],[8,4,2]])\n",
        "for i in range(3):\n",
        "  a[i]=np.sort(a[i])\n",
        "print(a)"
      ],
      "metadata": {
        "colab": {
          "base_uri": "https://localhost:8080/"
        },
        "id": "KNvZ1--cZJqQ",
        "outputId": "2cc496b4-9b93-40ac-8683-4a10e4fed366"
      },
      "execution_count": null,
      "outputs": [
        {
          "output_type": "stream",
          "name": "stdout",
          "text": [
            "[[1 2 3]\n",
            " [1 4 5]\n",
            " [2 4 8]]\n"
          ]
        }
      ]
    },
    {
      "cell_type": "markdown",
      "source": [
        "13. Print the indices that would sort a along the second axis."
      ],
      "metadata": {
        "id": "sJwxQ-DFZOab"
      }
    },
    {
      "cell_type": "code",
      "source": [
        "import numpy as np\n",
        "a=np.array([[1,2,3],[1,4,5],[8,4,2]])\n",
        "b=np.empty((3,3))\n",
        "for i in range(3):\n",
        "  b[i,np.argmin(a,axis=1)[i]] = 0\n",
        "  b[i,np.argmax(a,axis=1)[i]] = 2\n",
        "  for j in range(3):\n",
        "    if b[i,j]!=0 and b[i,j]!=2:\n",
        "      b[i,j]=1\n",
        "print(b)"
      ],
      "metadata": {
        "colab": {
          "base_uri": "https://localhost:8080/"
        },
        "id": "MunD903tZVD-",
        "outputId": "a160e810-01fa-454c-85ff-9187abac69b7"
      },
      "execution_count": null,
      "outputs": [
        {
          "output_type": "stream",
          "name": "stdout",
          "text": [
            "[[0. 1. 2.]\n",
            " [0. 1. 2.]\n",
            " [2. 1. 0.]]\n"
          ]
        }
      ]
    },
    {
      "cell_type": "markdown",
      "source": [
        "14. Create an identity matrix of size 6x6."
      ],
      "metadata": {
        "id": "BoUOb-UORXum"
      }
    },
    {
      "cell_type": "code",
      "source": [
        "import numpy.matlib as np\n",
        "print(np.identity(6, dtype=int))"
      ],
      "metadata": {
        "colab": {
          "base_uri": "https://localhost:8080/"
        },
        "id": "Pgt0H_6tRmMg",
        "outputId": "a0598c1d-0cb6-4b45-d0e9-3fff46d4f850"
      },
      "execution_count": null,
      "outputs": [
        {
          "output_type": "stream",
          "name": "stdout",
          "text": [
            "[[1 0 0 0 0 0]\n",
            " [0 1 0 0 0 0]\n",
            " [0 0 1 0 0 0]\n",
            " [0 0 0 1 0 0]\n",
            " [0 0 0 0 1 0]\n",
            " [0 0 0 0 0 1]]\n"
          ]
        }
      ]
    },
    {
      "cell_type": "markdown",
      "source": [
        "15. Let b=[1,4,3,2,6,8,5,4,2,0], split b into 3 arrays each of 3,4,3 elements."
      ],
      "metadata": {
        "id": "4flSMoMVRrwm"
      }
    },
    {
      "cell_type": "code",
      "source": [
        "import numpy as np\n",
        "b=np.array([1,4,3,2,6,8,5,4,2,0])\n",
        "a=np.array([b[0:3],b[3:7],b[7:]],dtype=object)\n",
        "print(a)"
      ],
      "metadata": {
        "id": "j2d8D-mfRWxI",
        "colab": {
          "base_uri": "https://localhost:8080/"
        },
        "outputId": "eadc36f2-205a-4843-fc7a-3683044d031d"
      },
      "execution_count": null,
      "outputs": [
        {
          "output_type": "stream",
          "name": "stdout",
          "text": [
            "[array([1, 4, 3]) array([2, 6, 8, 5]) array([4, 2, 0])]\n"
          ]
        }
      ]
    },
    {
      "cell_type": "markdown",
      "source": [
        "16.Create a 1-D array of 40 evenly spaced elements between 0. and 1., inclusive."
      ],
      "metadata": {
        "id": "ZiDMu4HQzzh4"
      }
    },
    {
      "cell_type": "code",
      "source": [
        "import numpy as np\n",
        "np.linspace(0, 1, num = 40, endpoint = True, retstep = False, dtype = float) #(from the answer given the intended number was probably 50 not 40)"
      ],
      "metadata": {
        "colab": {
          "base_uri": "https://localhost:8080/"
        },
        "id": "ZUqfFQAZzydo",
        "outputId": "2e91f0da-9e52-4a33-cd9f-3f1e612306df"
      },
      "execution_count": null,
      "outputs": [
        {
          "output_type": "execute_result",
          "data": {
            "text/plain": [
              "array([0.        , 0.02040816, 0.04081633, 0.06122449, 0.08163265,\n",
              "       0.10204082, 0.12244898, 0.14285714, 0.16326531, 0.18367347,\n",
              "       0.20408163, 0.2244898 , 0.24489796, 0.26530612, 0.28571429,\n",
              "       0.30612245, 0.32653061, 0.34693878, 0.36734694, 0.3877551 ,\n",
              "       0.40816327, 0.42857143, 0.44897959, 0.46938776, 0.48979592,\n",
              "       0.51020408, 0.53061224, 0.55102041, 0.57142857, 0.59183673,\n",
              "       0.6122449 , 0.63265306, 0.65306122, 0.67346939, 0.69387755,\n",
              "       0.71428571, 0.73469388, 0.75510204, 0.7755102 , 0.79591837,\n",
              "       0.81632653, 0.83673469, 0.85714286, 0.87755102, 0.89795918,\n",
              "       0.91836735, 0.93877551, 0.95918367, 0.97959184, 1.        ])"
            ]
          },
          "metadata": {},
          "execution_count": 78
        }
      ]
    },
    {
      "cell_type": "markdown",
      "source": [
        "17. Mutliply given arrays element-wise.\n",
        "\n",
        "a=[[4,7,2],[1,3,9]]\n",
        "\n",
        "b=[[1,5,0],[2,7,5]]"
      ],
      "metadata": {
        "id": "U4BSpQosnREt"
      }
    },
    {
      "cell_type": "code",
      "source": [
        "import numpy as np\n",
        "a=np.array([[4,7,2],[1,3,9]])\n",
        "b=np.array([[1,5,0],[2,7,5]])\n",
        "for i in range(a.shape[0]):\n",
        "  for j in range(a.shape[1]):\n",
        "    a[i,j]*=b[i,j]\n",
        "print(a)"
      ],
      "metadata": {
        "colab": {
          "base_uri": "https://localhost:8080/"
        },
        "id": "3cDb_yGInQBP",
        "outputId": "04418b12-4bd6-4c6e-a5f0-74c6477ebb75"
      },
      "execution_count": null,
      "outputs": [
        {
          "output_type": "stream",
          "name": "stdout",
          "text": [
            "[[ 4 35  0]\n",
            " [ 2 21 45]]\n"
          ]
        }
      ]
    },
    {
      "cell_type": "markdown",
      "source": [
        "18. Create a 3x2 array with random values from 0 to 1."
      ],
      "metadata": {
        "id": "eTjRvsNmo1dm"
      }
    },
    {
      "cell_type": "code",
      "source": [
        "from numpy import random\n",
        "x=random.rand(3,2)\n",
        "print(x)"
      ],
      "metadata": {
        "colab": {
          "base_uri": "https://localhost:8080/"
        },
        "id": "9OaI6Vjd0_3Z",
        "outputId": "5e1fcaf6-ad10-4a61-ddc2-fce356e8b8ca"
      },
      "execution_count": null,
      "outputs": [
        {
          "output_type": "stream",
          "name": "stdout",
          "text": [
            "[[0.39020032 0.26559151]\n",
            " [0.77959012 0.72007938]\n",
            " [0.08098117 0.28887537]]\n"
          ]
        }
      ]
    }
  ]
}