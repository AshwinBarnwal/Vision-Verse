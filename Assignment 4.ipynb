{
  "nbformat": 4,
  "nbformat_minor": 0,
  "metadata": {
    "colab": {
      "provenance": []
    },
    "kernelspec": {
      "name": "python3",
      "display_name": "Python 3"
    },
    "language_info": {
      "name": "python"
    }
  },
  "cells": [
    {
      "cell_type": "code",
      "execution_count": null,
      "metadata": {
        "id": "19QK6bs5FwO_"
      },
      "outputs": [],
      "source": [
        "import cv2\n",
        "import numpy as np\n",
        "\n",
        "\n",
        "im=cv2.imread(\"lowContrast.PNG\")\n",
        "#best looking settings set for lowContrast.PNG\n",
        "gf=cv2.GaussianBlur(im, (5,5), 0) #13,13 for original.JPG\n",
        "mf=cv2.medianBlur(im, 5)  #9 for original.JPG\n",
        "lf= cv2.Laplacian(cv2.cvtColor(cv2.GaussianBlur(im, (3,3), 0), cv2.COLOR_BGR2GRAY), cv2.CV_64F) #5,5 for original.JPG\n",
        "lf= np.uint8(np.abs(lf))\n",
        "bf = cv2.bilateralFilter(im, d=7, sigmaColor=75, sigmaSpace=75) #11,75,75 for original.JPG\n",
        "bof= cv2.boxFilter(im, -1, (5,5)) # (7,7) for original.JPG\n",
        "\n",
        "\n",
        "cv2.imshow('original', im)\n",
        "cv2.imshow('gaussian filter', gf)\n",
        "cv2.imshow('median filter', mf)\n",
        "cv2.imshow('laplacian filter', lf)\n",
        "cv2.imshow('bilateral filter', bf)\n",
        "cv2.imshow('box filter', bof)\n",
        "\n",
        "\n",
        "cv2.waitKey(0)\n",
        "cv2.destroyAllWindows()"
      ]
    }
  ]
}