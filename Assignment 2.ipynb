{
  "nbformat": 4,
  "nbformat_minor": 0,
  "metadata": {
    "colab": {
      "provenance": []
    },
    "kernelspec": {
      "name": "python3",
      "display_name": "Python 3"
    },
    "language_info": {
      "name": "python"
    }
  },
  "cells": [
    {
      "cell_type": "code",
      "source": [
        "#Task 1\n",
        "\n",
        "import cv2\n",
        "import matplotlib.pyplot as plt\n",
        "\n",
        "def downsample(file,ds):\n",
        "    image = cv2.imread(file)\n",
        "    plt.subplot(1,2,1)\n",
        "    plt.imshow(image)\n",
        "    plt.subplot(1,2,2)\n",
        "    plt.imshow(cv2.resize(image, (0, 0), fx=1/ds,fy=1/ds, interpolation = cv2.INTER_LINEAR))\n",
        "\n",
        "downsample(input(\"Enter file name: \"),int(input(\"Enter downsampling factor: \")))"
      ],
      "metadata": {
        "id": "SFH6H1LPctAH"
      },
      "execution_count": null,
      "outputs": []
    },
    {
      "cell_type": "code",
      "source": [
        "#Task 2\n",
        "\n",
        "import cv2\n",
        "import numpy.random as ra\n",
        "\n",
        "def com(l,l1):\n",
        "    for i in range(len(l1)):\n",
        "        if abs(l[i]-l1[i])>1.0:\n",
        "            return False\n",
        "    return True\n",
        "\n",
        "img= cv2.imread(input(\"Enter file name: \"))\n",
        "img = cv2.cvtColor(img,cv2.COLOR_BGR2GRAY)\n",
        "bit=int(input(\"Enter bit rate: \"))\n",
        "a=2**bit\n",
        "l=[]\n",
        "\n",
        "for i in range(a):\n",
        "    l.append(img[ra.randint(0,len(img)-1),ra.randint(0,len(img[0])-1)])\n",
        "\n",
        "while True:\n",
        "    l1=[]\n",
        "    cluster=[]\n",
        "    for i in range(a):\n",
        "        cluster.append([])\n",
        "\n",
        "    for row in range(len(img)):\n",
        "       for col in range(len(img[row])):\n",
        "           m=1000\n",
        "           for j in range(a):\n",
        "               c=abs(img[row,col]-l[j])\n",
        "               if c<m:\n",
        "                   m=c\n",
        "                   ind=j\n",
        "           cluster[ind].append([row,col])\n",
        "\n",
        "    for i in range(a):\n",
        "        s=0.0\n",
        "        for j in cluster[i]:\n",
        "            s+=img[int(j[0]),int(j[1])]\n",
        "        l1.append(s/len(cluster[i]))\n",
        "\n",
        "    if com(l,l1):\n",
        "        break\n",
        "    else:\n",
        "        l=l1\n",
        "\n",
        "\n",
        "cv2.imshow(\"original\",img)\n",
        "\n",
        "for i in range(a):\n",
        "    for j in cluster[i]:\n",
        "        img[int(j[0]),int(j[1])]=l[i]\n",
        "\n",
        "cv2.imshow(str(bit)+\"-bit image\",img)\n",
        "cv2.waitKey(0)\n",
        "cv2.destroyAllWindows()"
      ],
      "metadata": {
        "id": "se4CuMsFcyUL"
      },
      "execution_count": null,
      "outputs": []
    }
  ]
}